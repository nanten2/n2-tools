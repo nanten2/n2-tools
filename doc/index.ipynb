{
 "cells": [
  {
   "cell_type": "markdown",
   "metadata": {},
   "source": [
    "# n2-tools "
   ]
  },
  {
   "cell_type": "markdown",
   "metadata": {},
   "source": [
    "## これは何か\n",
    "\n",
    "- 天文データをサクサク解析する python パッケージになる予定。\n",
    "- 電波の 3d データ処理が多いです。\n",
    "- 要望があれば [GitHub issues](https://github.com/nanten2/n2-tools/issues) からお知らせください。\n",
    "\n",
    "\n",
    "### 関連ページ\n",
    "\n",
    "- [PyPI](https://pypi.org/project/n2-tools/)\n",
    "- [GitHub](https://github.com/nanten2/n2-tools)\n",
    "  - [要望受付ページ](https://github.com/nanten2/n2-tools/issues)\n"
   ]
  },
  {
   "cell_type": "markdown",
   "metadata": {},
   "source": [
    "　"
   ]
  },
  {
   "cell_type": "markdown",
   "metadata": {},
   "source": [
    "## How to install \n",
    "\n",
    "### 必要環境\n",
    "\n",
    "以下の環境が必要です。事前にインストールしてください。\n",
    "\n",
    "- python 3.6\n",
    "- jupyter\n",
    "\n",
    "例えば、pyenv/anaconda 環境だとインストールが簡単です。 \n",
    "\n",
    "#### 参考ページ\n",
    "- [新人さんに python 使いになってもらうまで (2016年度版/宇宙物理学系の研究室)](https://qiita.com/nishimuraatsushi/items/d468fec3f75039a70eaa)\n",
    "\n",
    "\n",
    "### n2-tools をインストールする\n",
    "\n",
    "```\n",
    "pip install n2-tools\n",
    "```\n",
    "\n",
    "最新のバージョンにアップデートするときは、\n",
    "\n",
    "```\n",
    "pip install -U n2-tools\n",
    "```"
   ]
  },
  {
   "cell_type": "markdown",
   "metadata": {},
   "source": [
    "　"
   ]
  },
  {
   "cell_type": "markdown",
   "metadata": {},
   "source": []
  },
  {
   "cell_type": "code",
   "execution_count": null,
   "metadata": {},
   "outputs": [],
   "source": []
  }
 ],
 "metadata": {
  "kernelspec": {
   "display_name": "Python 3",
   "language": "python",
   "name": "python3"
  },
  "language_info": {
   "codemirror_mode": {
    "name": "ipython",
    "version": 3
   },
   "file_extension": ".py",
   "mimetype": "text/x-python",
   "name": "python",
   "nbconvert_exporter": "python",
   "pygments_lexer": "ipython3",
   "version": "3.6.5"
  }
 },
 "nbformat": 4,
 "nbformat_minor": 2
}
