{
 "cells": [
  {
   "cell_type": "markdown",
   "metadata": {},
   "source": [
    "# n2.open_fits(path, hdu_num=0)\n",
    "\n",
    "FITS image ファイルを開きます。\n",
    "\n",
    "ソースファイル : [n2.data.fitsimage.open_fits()](https://github.com/nanten2/n2-tools/blob/master/n2/data/fitsimage.py)\n",
    "\n",
    "#### input\n",
    "| name | type | default | description |　examples |\n",
    "| ------- | ------ | --------- | -------------- | ----------- |\n",
    "| path | str | 必須 | 読み込むファイルのパス、もしくは URL | 'Orion-data.fits', '/home/user/test.fits', 'http://www.astro.s.osakafu-u.ac.jp/~nishimura/Orion/data/Orion.CO1221.Osaka.beam204.mom0.fits.gz' |\n",
    "| hdu_num | int | 0 |  読み込む HDU インデックス。FITS ファイルに複数の HDU が保存されている場合、指定します。 | 0, 1, 2 |\n",
    "\n",
    "#### output\n",
    "| name | type | description | examples |\n",
    "| -------- | ----- | -------------- | ------------ |\n",
    "| fimage | [n2.data.fitsimage.fitsimage](./n2.data.fitsimage.fitsimage.ipynb) | | |"
   ]
  },
  {
   "cell_type": "markdown",
   "metadata": {},
   "source": [
    " "
   ]
  },
  {
   "cell_type": "markdown",
   "metadata": {},
   "source": [
    "## 使用例"
   ]
  },
  {
   "cell_type": "code",
   "execution_count": 1,
   "metadata": {},
   "outputs": [
    {
     "name": "stdout",
     "output_type": "stream",
     "text": [
      "\u001b[37m[10:02:11,470]\u001b[0m\u001b[34m INFO: python 3.6.5\u001b[0m\n",
      "\u001b[37m[10:02:11,471]\u001b[0m\u001b[34m INFO: n2-tools 0.0.5\u001b[0m\n"
     ]
    }
   ],
   "source": [
    "import n2"
   ]
  },
  {
   "cell_type": "code",
   "execution_count": 2,
   "metadata": {},
   "outputs": [
    {
     "name": "stdout",
     "output_type": "stream",
     "text": [
      "\u001b[37m[10:02:11,507]\u001b[0m\u001b[34m INFO: (open_fits) path=../../../../../../data/NRO45/FUGIN/FGN_01700+0000_2x2_12CO_v1.00_cube.fits, hdu_num=0\u001b[0m\n"
     ]
    }
   ],
   "source": [
    "d = n2.open_fits('../../../../../../data/NRO45/FUGIN/FGN_01700+0000_2x2_12CO_v1.00_cube.fits')"
   ]
  },
  {
   "cell_type": "code",
   "execution_count": 3,
   "metadata": {},
   "outputs": [
    {
     "data": {
      "text/plain": [
       "<n2.data.fitsimage.fitsimage at 0xb1a97ad30>"
      ]
     },
     "execution_count": 3,
     "metadata": {},
     "output_type": "execute_result"
    }
   ],
   "source": [
    "d"
   ]
  },
  {
   "cell_type": "code",
   "execution_count": 4,
   "metadata": {},
   "outputs": [
    {
     "name": "stdout",
     "output_type": "stream",
     "text": [
      "OBS : NRO45m / FOREST\n",
      "LINE : 12CO1-0 (K)\n",
      "HPBW : 20.2 x 20.2 arcsec\n",
      "\n",
      "size : 1.3 GB\n",
      "BITPIX : -32\n",
      "\n",
      "Center : 16.999 deg  0.001 deg  50475.000 m / s\n",
      "Width : 2.002 deg  2.002 deg  300300.000 m / s\n",
      "\n",
      "Number of WCS axes: 3\n",
      "CTYPE : 'GLON-SFL'  'GLAT-SFL'  'VRAD'  \n",
      "CRVAL : 17.0  0.0  -99675.0  \n",
      "CRPIX : 424.5  424.5  1.0  \n",
      "NAXIS : 848  848  462\n"
     ]
    }
   ],
   "source": [
    "d.info()"
   ]
  }
 ],
 "metadata": {
  "kernelspec": {
   "display_name": "Python 3",
   "language": "python",
   "name": "python3"
  },
  "language_info": {
   "codemirror_mode": {
    "name": "ipython",
    "version": 3
   },
   "file_extension": ".py",
   "mimetype": "text/x-python",
   "name": "python",
   "nbconvert_exporter": "python",
   "pygments_lexer": "ipython3",
   "version": "3.6.5"
  }
 },
 "nbformat": 4,
 "nbformat_minor": 2
}
