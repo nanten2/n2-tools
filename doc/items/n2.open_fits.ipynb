{
 "cells": [
  {
   "cell_type": "markdown",
   "metadata": {},
   "source": [
    "# n2.open_fits(path, hdu_num=0)\n",
    "\n",
    "FITS image ファイルを開きます。\n",
    "\n",
    "ソースファイル : [n2.data.fitsimage.open_fits()](https://github.com/nanten2/n2-tools/blob/master/n2/data/fitsimage.py)\n",
    "\n",
    "#### input\n",
    "- path\n",
    "  - type : str\n",
    "  - 読み込むファイルのパス、もしくは URL\n",
    "\n",
    "- hdu_num\n",
    "  - type : int\n",
    "  - default : 0\n",
    "  - 読み込む HDU インデックスを指定します\n",
    "\n",
    "#### output\n",
    "- fimage\n",
    "  - type : n2.data.fitsimage.fitsimage オブジェクト"
   ]
  },
  {
   "cell_type": "markdown",
   "metadata": {},
   "source": [
    " "
   ]
  },
  {
   "cell_type": "markdown",
   "metadata": {},
   "source": [
    "## 使用例"
   ]
  },
  {
   "cell_type": "code",
   "execution_count": 1,
   "metadata": {},
   "outputs": [
    {
     "name": "stdout",
     "output_type": "stream",
     "text": [
      "\u001b[37m[10:02:11,470]\u001b[0m\u001b[34m INFO: python 3.6.5\u001b[0m\n",
      "\u001b[37m[10:02:11,471]\u001b[0m\u001b[34m INFO: n2-tools 0.0.5\u001b[0m\n"
     ]
    }
   ],
   "source": [
    "import n2"
   ]
  },
  {
   "cell_type": "code",
   "execution_count": 2,
   "metadata": {},
   "outputs": [
    {
     "name": "stdout",
     "output_type": "stream",
     "text": [
      "\u001b[37m[10:02:11,507]\u001b[0m\u001b[34m INFO: (open_fits) path=../../../../../../data/NRO45/FUGIN/FGN_01700+0000_2x2_12CO_v1.00_cube.fits, hdu_num=0\u001b[0m\n"
     ]
    }
   ],
   "source": [
    "d = n2.open_fits('../../../../../../data/NRO45/FUGIN/FGN_01700+0000_2x2_12CO_v1.00_cube.fits')"
   ]
  },
  {
   "cell_type": "code",
   "execution_count": 3,
   "metadata": {},
   "outputs": [
    {
     "data": {
      "text/plain": [
       "<n2.data.fitsimage.fitsimage at 0xb1a97ad30>"
      ]
     },
     "execution_count": 3,
     "metadata": {},
     "output_type": "execute_result"
    }
   ],
   "source": [
    "d"
   ]
  },
  {
   "cell_type": "code",
   "execution_count": null,
   "metadata": {},
   "outputs": [],
   "source": []
  }
 ],
 "metadata": {
  "kernelspec": {
   "display_name": "Python 3",
   "language": "python",
   "name": "python3"
  },
  "language_info": {
   "codemirror_mode": {
    "name": "ipython",
    "version": 3
   },
   "file_extension": ".py",
   "mimetype": "text/x-python",
   "name": "python",
   "nbconvert_exporter": "python",
   "pygments_lexer": "ipython3",
   "version": "3.6.5"
  }
 },
 "nbformat": 4,
 "nbformat_minor": 2
}
