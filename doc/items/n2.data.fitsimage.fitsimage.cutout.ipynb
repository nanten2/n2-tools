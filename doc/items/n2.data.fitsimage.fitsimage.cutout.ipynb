{
 "cells": [
  {
   "cell_type": "markdown",
   "metadata": {},
   "source": [
    "# fitsimage.cutout\n",
    "\n",
    "HDU から、範囲を指定してデータを切り出します。\n",
    "\n",
    "ソースファイル : [n2.core.cutout](https://github.com/nanten2/n2-tools/blob/master/n2/core/cutout.py)\n",
    "\n",
    "\n",
    "以下の関数があります：\n",
    "\n",
    "- cut_pix\n",
    "- cut_world\n"
   ]
  },
  {
   "cell_type": "markdown",
   "metadata": {},
   "source": [
    "## cut_pix(x=None, y=None, z=None)\n",
    "\n",
    "pix を指定して切り出します。\n",
    "\n",
    "#### input\n",
    "| name | type | default | description |　examples |\n",
    "| ------- | ------ | --------- | -------------- | ----------- |\n",
    "| x | (int, int) | None | AXIS1 の切り出すピクセルの範囲 (start, end)。int で指定。None の場合何もしない。 |  (100, 500), (0, 25) |\n",
    "| y | (int, int) | None | AXIS2 の切り出すピクセルの範囲 (start, end)。int で指定。None の場合何もしない。 |  (100, 500), (0, 25) |\n",
    "| z | (int, int) | None | AXIS3 の切り出すピクセルの範囲 (start, end)。int で指定。None の場合何もしない。 |  (100, 500), (0, 25) |\n",
    "\n",
    "#### output\n",
    "| name | type | description | examples |\n",
    "| -------- | ----- | -------------- | ------------ |\n",
    "| new_fimage | [n2.data.fitsimage.fitsimage](./n2.data.fitsimage.fitsimage.ipynb) | 切り出された fitsimage オブジェクト | |"
   ]
  },
  {
   "cell_type": "markdown",
   "metadata": {},
   "source": [
    "### 使用例"
   ]
  },
  {
   "cell_type": "code",
   "execution_count": 1,
   "metadata": {},
   "outputs": [
    {
     "name": "stdout",
     "output_type": "stream",
     "text": [
      "\u001b[37m[11:40:39,464]\u001b[0m\u001b[34m INFO: python 3.6.5\u001b[0m\n",
      "\u001b[37m[11:40:39,465]\u001b[0m\u001b[34m INFO: n2-tools 0.0.5\u001b[0m\n"
     ]
    }
   ],
   "source": [
    "# n2 パッケージをインポート\n",
    "import n2"
   ]
  },
  {
   "cell_type": "code",
   "execution_count": 2,
   "metadata": {},
   "outputs": [
    {
     "name": "stdout",
     "output_type": "stream",
     "text": [
      "\u001b[37m[11:40:39,505]\u001b[0m\u001b[34m INFO: (open_fits) path=http://www.astro.s.osakafu-u.ac.jp/~nishimura/Orion/data/Orion.CO1221.Osaka.beam204.mom0.fits.gz, hdu_num=0\u001b[0m\n",
      "\u001b[37m[11:40:39,529]\u001b[0m\u001b[33m WARNING: (verify_header) Empty keyword: BMAJ\u001b[0m\n",
      "\u001b[37m[11:40:39,530]\u001b[0m\u001b[33m WARNING: (verify_header) Empty keyword: BMIN\u001b[0m\n"
     ]
    }
   ],
   "source": [
    "# fitsimage を読み込み\n",
    "path = 'http://www.astro.s.osakafu-u.ac.jp/~nishimura/Orion/data/Orion.CO1221.Osaka.beam204.mom0.fits.gz'\n",
    "d = n2.open_fits(path)"
   ]
  },
  {
   "cell_type": "code",
   "execution_count": 3,
   "metadata": {},
   "outputs": [
    {
     "name": "stdout",
     "output_type": "stream",
     "text": [
      "OBS :  / \n",
      "LINE :  (K)\n",
      "HPBW : 0 x 0 arcsec\n",
      "\n",
      "size : 1.4 MB\n",
      "BITPIX : -32\n",
      "\n",
      "Center : 209.983 deg  -17.000 deg\n",
      "Width : 12.000 deg  8.000 deg\n",
      "\n",
      "Number of WCS axes: 2\n",
      "CTYPE : 'GLON-CAR'  'GLAT-CAR'  \n",
      "CRVAL : 209.0  0.0  \n",
      "CRPIX : 419.999978147  1260.99993429  \n",
      "PC1_1 PC1_2  : 1.0  0.0  \n",
      "PC2_1 PC2_2  : 0.0  1.0  \n",
      "CDELT : -0.0166667  0.0166667  \n",
      "NAXIS : 720  480\n"
     ]
    }
   ],
   "source": [
    "# 切り出し前の情報。720 x 480 pix で、1.4 MB.\n",
    "d.info()"
   ]
  },
  {
   "cell_type": "code",
   "execution_count": 4,
   "metadata": {},
   "outputs": [
    {
     "name": "stdout",
     "output_type": "stream",
     "text": [
      "\u001b[37m[11:40:39,548]\u001b[0m\u001b[34m INFO: (cache.open) .n2cache/1ea587e5d65dfecbfe4ec02d2da9096589c22f4e\u001b[0m\n",
      "\u001b[37m[11:40:39,550]\u001b[0m\u001b[33m WARNING: (verify_header) Empty keyword: BMAJ\u001b[0m\n",
      "\u001b[37m[11:40:39,551]\u001b[0m\u001b[33m WARNING: (verify_header) Empty keyword: BMIN\u001b[0m\n"
     ]
    }
   ],
   "source": [
    "d2 = d.cut_pix(x=[200, 400], y= [10, 50])"
   ]
  },
  {
   "cell_type": "code",
   "execution_count": 5,
   "metadata": {},
   "outputs": [
    {
     "name": "stdout",
     "output_type": "stream",
     "text": [
      "OBS :  / \n",
      "LINE :  (K)\n",
      "HPBW : 0 x 0 arcsec\n",
      "\n",
      "size : 32.0 KB\n",
      "BITPIX : -32\n",
      "\n",
      "Center : 210.983 deg  -20.500 deg\n",
      "Width : 3.333 deg  0.667 deg\n",
      "\n",
      "Number of WCS axes: 2\n",
      "CTYPE : 'GLON-CAR'  'GLAT-CAR'  \n",
      "CRVAL : 209.0  0.0  \n",
      "CRPIX : 219.999978147  1250.99993429  \n",
      "PC1_1 PC1_2  : 1.0  0.0  \n",
      "PC2_1 PC2_2  : 0.0  1.0  \n",
      "CDELT : -0.0166667  0.0166667  \n",
      "NAXIS : 200  40\n"
     ]
    }
   ],
   "source": [
    "# 切り出し後の情報。200 x 40 pix で、32 KB.\n",
    "d2.info()"
   ]
  },
  {
   "cell_type": "markdown",
   "metadata": {},
   "source": [
    " "
   ]
  },
  {
   "cell_type": "markdown",
   "metadata": {},
   "source": [
    " "
   ]
  },
  {
   "cell_type": "markdown",
   "metadata": {},
   "source": [
    "## cut_world(x=None, y=None, z=None)\n",
    "\n",
    "座標を指定して切り出します。\n",
    "\n",
    "#### input\n",
    "| name | type | default | description |　examples |\n",
    "| ------- | ------ | --------- | -------------- | ----------- |\n",
    "| x | ([astropy.units.Quantity](http://docs.astropy.org/en/stable/api/astropy.units.Quantity.html#astropy.units.Quantity), [astropy.units.Quantity](http://docs.astropy.org/en/stable/api/astropy.units.Quantity.html#astropy.units.Quantity)) | None | AXIS1 の切り出す座標の範囲 (start, end)。CUNIT1 と同じ単位系で指定。None の場合何もしない。 |  (20\\*deg, 15\\*deg) |\n",
    "| y | ([astropy.units.Quantity](http://docs.astropy.org/en/stable/api/astropy.units.Quantity.html#astropy.units.Quantity), [astropy.units.Quantity](http://docs.astropy.org/en/stable/api/astropy.units.Quantity.html#astropy.units.Quantity)) | None | AXIS2 の切り出す座標の範囲 (start, end)。CUNIT2 と同じ単位系で指定。None の場合何もしない。 |  (-0.5\\*deg, 0.5\\*deg) |\n",
    "| z | ([astropy.units.Quantity](http://docs.astropy.org/en/stable/api/astropy.units.Quantity.html#astropy.units.Quantity), [astropy.units.Quantity](http://docs.astropy.org/en/stable/api/astropy.units.Quantity.html#astropy.units.Quantity)) | None | AXIS3 の切り出す座標の範囲 (start, end)。CUNIT3 と同じ単位系で指定。None の場合何もしない。 |  (10\\*km/s, 50\\*km/s) |\n",
    "\n",
    "#### output\n",
    "| name | type | description | examples |\n",
    "| -------- | ----- | -------------- | ------------ |\n",
    "| new_fimage | [n2.data.fitsimage.fitsimage](./n2.data.fitsimage.fitsimage.ipynb) | 切り出された fitsimage オブジェクト | |"
   ]
  },
  {
   "cell_type": "markdown",
   "metadata": {},
   "source": [
    "### 使用例"
   ]
  },
  {
   "cell_type": "code",
   "execution_count": 6,
   "metadata": {},
   "outputs": [],
   "source": [
    "# n2 パッケージをインポート\n",
    "import n2"
   ]
  },
  {
   "cell_type": "code",
   "execution_count": 7,
   "metadata": {},
   "outputs": [
    {
     "name": "stdout",
     "output_type": "stream",
     "text": [
      "\u001b[37m[11:40:39,578]\u001b[0m\u001b[34m INFO: (open_fits) path=http://www.astro.s.osakafu-u.ac.jp/~nishimura/Orion/data/Orion.CO1221.Osaka.beam204.mom0.fits.gz, hdu_num=0\u001b[0m\n",
      "\u001b[37m[11:40:39,597]\u001b[0m\u001b[33m WARNING: (verify_header) Empty keyword: BMAJ\u001b[0m\n",
      "\u001b[37m[11:40:39,598]\u001b[0m\u001b[33m WARNING: (verify_header) Empty keyword: BMIN\u001b[0m\n"
     ]
    }
   ],
   "source": [
    "# fitsimage を読み込み\n",
    "path = 'http://www.astro.s.osakafu-u.ac.jp/~nishimura/Orion/data/Orion.CO1221.Osaka.beam204.mom0.fits.gz'\n",
    "d3 = n2.open_fits(path)"
   ]
  },
  {
   "cell_type": "code",
   "execution_count": 8,
   "metadata": {},
   "outputs": [
    {
     "name": "stdout",
     "output_type": "stream",
     "text": [
      "\u001b[37m[11:40:39,610]\u001b[0m\u001b[34m INFO: (cache.open) .n2cache/8320e8a250144b70fa632ac481929f33a6a5ff38\u001b[0m\n",
      "\u001b[37m[11:40:39,613]\u001b[0m\u001b[33m WARNING: (verify_header) Empty keyword: BMAJ\u001b[0m\n",
      "\u001b[37m[11:40:39,614]\u001b[0m\u001b[33m WARNING: (verify_header) Empty keyword: BMIN\u001b[0m\n"
     ]
    }
   ],
   "source": [
    "from astropy.units import deg\n",
    "d4 = d3.cut_world(x=(210*deg, 209*deg), y=(-20*deg, -19*deg))"
   ]
  },
  {
   "cell_type": "code",
   "execution_count": 9,
   "metadata": {},
   "outputs": [
    {
     "name": "stdout",
     "output_type": "stream",
     "text": [
      "OBS :  / \n",
      "LINE :  (K)\n",
      "HPBW : 0 x 0 arcsec\n",
      "\n",
      "size : 14.2 KB\n",
      "BITPIX : -32\n",
      "\n",
      "Center : 209.508 deg  -19.500 deg\n",
      "Width : 0.983 deg  1.000 deg\n",
      "\n",
      "Number of WCS axes: 2\n",
      "CTYPE : 'GLON-CAR'  'GLAT-CAR'  \n",
      "CRVAL : 209.0  0.0  \n",
      "CRPIX : 60.99997814699998  1200.99993429  \n",
      "PC1_1 PC1_2  : 1.0  0.0  \n",
      "PC2_1 PC2_2  : 0.0  1.0  \n",
      "CDELT : -0.0166667  0.0166667  \n",
      "NAXIS : 59  60\n"
     ]
    }
   ],
   "source": [
    "d4.info()"
   ]
  }
 ],
 "metadata": {
  "kernelspec": {
   "display_name": "Python 3",
   "language": "python",
   "name": "python3"
  },
  "language_info": {
   "codemirror_mode": {
    "name": "ipython",
    "version": 3
   },
   "file_extension": ".py",
   "mimetype": "text/x-python",
   "name": "python",
   "nbconvert_exporter": "python",
   "pygments_lexer": "ipython3",
   "version": "3.6.5"
  }
 },
 "nbformat": 4,
 "nbformat_minor": 2
}
