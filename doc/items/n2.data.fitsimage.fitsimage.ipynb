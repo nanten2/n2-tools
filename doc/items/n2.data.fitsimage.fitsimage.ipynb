{
 "cells": [
  {
   "cell_type": "markdown",
   "metadata": {},
   "source": [
    "# n2.data.fitsimage.fitsimage\n",
    "\n",
    "FITS image ファイルを操作するオブジェクトです。\n",
    "\n",
    "ソースファイル :  [n2.data.fitsimage.fitsimage](https://github.com/nanten2/n2-tools/blob/master/n2/data/fitsimage.py)\n",
    "\n",
    "#### Properties\n",
    "\n",
    "|   name   |   type   |   description   |\n",
    "| ----------- | ---------- | ------------------ |\n",
    "| hdu | [astropy.io.fits.PrimaryHDU](http://docs.astropy.org/en/stable/io/fits/api/hdus.html#primaryhdu) | 読み込んだ FITS ファイルの HDU  |\n",
    "| header | [astropy.io.fits.Header](http://docs.astropy.org/en/stable/io/fits/api/headers.html#astropy.io.fits.Header) | 読み込んだヘッダ (self.hdu.header への参照) |\n",
    "| data | [numpy.ndarray](https://docs.scipy.org/doc/numpy/reference/generated/numpy.ndarray.html) | 読み込んだデータ (self.hdu.data への参照) |\n",
    "\n",
    "\n",
    "#### Methods\n",
    "\n",
    "| name | description |\n",
    "| ------- | -------------- |\n",
    "| veryfy_header | |\n",
    "| read_n2hist | |\n",
    "| show_n2hist | |\n",
    "| info | |\n",
    "| writeto | |\n",
    "| cut_pix | |\n",
    "| cut_world | |\n",
    "| convolve_pix | |\n",
    "| convolve_world | |\n",
    "| velocity_binning_pix | |\n",
    "| velocity_binning_world | |\n",
    "| peak | |\n",
    "| mom0 | |"
   ]
  },
  {
   "cell_type": "markdown",
   "metadata": {},
   "source": [
    "## 使い方\n",
    "\n",
    "[n2.open_fits()](./n2.open_fits.ipynb) を使ってオブジェクトを生成してください。n2.data.fitsimage.fitsimage を直接インスタンス化すると、ヒストリーの整合が取れなくなり、キャッシュが適切に機能しなくなります。\n",
    "\n",
    "以下に、簡単な使い方を示します。"
   ]
  },
  {
   "cell_type": "code",
   "execution_count": 1,
   "metadata": {},
   "outputs": [
    {
     "name": "stdout",
     "output_type": "stream",
     "text": [
      "\u001b[37m[10:49:53,700]\u001b[0m\u001b[34m INFO: python 3.6.5\u001b[0m\n",
      "\u001b[37m[10:49:53,700]\u001b[0m\u001b[34m INFO: n2-tools 0.0.5\u001b[0m\n"
     ]
    }
   ],
   "source": [
    "import n2"
   ]
  },
  {
   "cell_type": "code",
   "execution_count": 2,
   "metadata": {},
   "outputs": [
    {
     "name": "stdout",
     "output_type": "stream",
     "text": [
      "\u001b[37m[10:49:53,735]\u001b[0m\u001b[34m INFO: (open_fits) path=http://www.astro.s.osakafu-u.ac.jp/~nishimura/Orion/data/Orion.CO1221.Osaka.beam204.mom0.fits.gz, hdu_num=0\u001b[0m\n",
      "\u001b[37m[10:49:53,759]\u001b[0m\u001b[33m WARNING: (verify_header) Empty keyword: BMAJ\u001b[0m\n",
      "\u001b[37m[10:49:53,760]\u001b[0m\u001b[33m WARNING: (verify_header) Empty keyword: BMIN\u001b[0m\n"
     ]
    }
   ],
   "source": [
    "path = 'http://www.astro.s.osakafu-u.ac.jp/~nishimura/Orion/data/Orion.CO1221.Osaka.beam204.mom0.fits.gz'\n",
    "d = n2.open_fits(path)"
   ]
  },
  {
   "cell_type": "code",
   "execution_count": 3,
   "metadata": {},
   "outputs": [
    {
     "data": {
      "text/plain": [
       "<astropy.io.fits.hdu.image.PrimaryHDU at 0x111af3c50>"
      ]
     },
     "execution_count": 3,
     "metadata": {},
     "output_type": "execute_result"
    }
   ],
   "source": [
    "d.hdu"
   ]
  },
  {
   "cell_type": "code",
   "execution_count": 4,
   "metadata": {},
   "outputs": [
    {
     "data": {
      "text/plain": [
       "SIMPLE  =                    T / Written by IDL:  Tue Jul 30 11:17:07 2013      \n",
       "BITPIX  =                  -32 / Number of bits per data pixel                  \n",
       "NAXIS   =                    2 / Number of data axes                            \n",
       "NAXIS1  =                  720                                                  \n",
       "NAXIS2  =                  480                                                  \n",
       "DATE    = '2013-07-30'         / Creation UTC (CCCC-MM-DD) date of FITS header  \n",
       "COMMENT FITS (Flexible Image Transport System) format is defined in 'Astronomy  \n",
       "COMMENT and Astrophysics', volume 376, page 359; bibcode 2001A&A...376..359H    \n",
       "COMMENT The data is downloaded from:                                            \n",
       "COMMENT http://www.astro.s.osakafu-u.ac.jp/~nishimura/Orion/                    \n",
       "BUNIT   = 'K       '           /                                                \n",
       "CUNIT1  = 'deg     '           /                                                \n",
       "CRVAL1  =        209.000000000 /                                                \n",
       "CRPIX1  =        419.999978147 /                                                \n",
       "CDELT1  =           -0.0166667 /                                                \n",
       "CUNIT2  = 'deg     '           /                                                \n",
       "CRVAL2  =              0.00000 /                                                \n",
       "CRPIX2  =        1260.99993429 /                                                \n",
       "CDELT2  =            0.0166667 /                                                \n",
       "CTYPE1  = 'GLON-CAR'           /                                                \n",
       "CTYPE2  = 'GLAT-CAR'           /                                                \n",
       "HISTORY n2: open_fits                                                           \n",
       "HISTORY n2: ---------                                                           \n",
       "HISTORY n2: filename = Orion.CO1221.Osaka.beam204.mom0.fits.gz                  \n",
       "HISTORY n2: hdu_num = 0                                                         \n",
       "HISTORY n2:                                                                     \n",
       "HISTORY                                                                         "
      ]
     },
     "execution_count": 4,
     "metadata": {},
     "output_type": "execute_result"
    }
   ],
   "source": [
    "d.header"
   ]
  },
  {
   "cell_type": "code",
   "execution_count": 5,
   "metadata": {},
   "outputs": [
    {
     "data": {
      "text/plain": [
       "array([[nan, nan, nan, ..., nan, nan, nan],\n",
       "       [nan, nan, nan, ..., nan, nan, nan],\n",
       "       [nan, nan, nan, ..., nan, nan, nan],\n",
       "       ...,\n",
       "       [nan, nan, nan, ..., nan, nan, nan],\n",
       "       [nan, nan, nan, ..., nan, nan, nan],\n",
       "       [nan, nan, nan, ..., nan, nan, nan]], dtype=float32)"
      ]
     },
     "execution_count": 5,
     "metadata": {},
     "output_type": "execute_result"
    }
   ],
   "source": [
    "d.data"
   ]
  },
  {
   "cell_type": "code",
   "execution_count": 6,
   "metadata": {},
   "outputs": [
    {
     "name": "stdout",
     "output_type": "stream",
     "text": [
      "\u001b[37m[10:49:53,792]\u001b[0m\u001b[33m WARNING: (verify_header) Empty keyword: BMAJ\u001b[0m\n",
      "\u001b[37m[10:49:53,794]\u001b[0m\u001b[33m WARNING: (verify_header) Empty keyword: BMIN\u001b[0m\n"
     ]
    }
   ],
   "source": [
    "d.verify_header()"
   ]
  },
  {
   "cell_type": "code",
   "execution_count": 7,
   "metadata": {},
   "outputs": [
    {
     "name": "stdout",
     "output_type": "stream",
     "text": [
      "n2: open_fits\n",
      "n2: ---------\n",
      "n2: filename = Orion.CO1221.Osaka.beam204.mom0.fits.gz\n",
      "n2: hdu_num = 0\n",
      "n2:\n",
      "\n"
     ]
    }
   ],
   "source": [
    "d.show_n2hist()"
   ]
  },
  {
   "cell_type": "code",
   "execution_count": 8,
   "metadata": {},
   "outputs": [
    {
     "name": "stdout",
     "output_type": "stream",
     "text": [
      "OBS :  / \n",
      "LINE :  (K)\n",
      "HPBW : 0 x 0 arcsec\n",
      "\n",
      "size : 1.4 MB\n",
      "BITPIX : -32\n",
      "\n",
      "Center : 209.983 deg  -17.000 deg\n",
      "Width : 12.000 deg  8.000 deg\n",
      "\n",
      "Number of WCS axes: 2\n",
      "CTYPE : 'GLON-CAR'  'GLAT-CAR'  \n",
      "CRVAL : 209.0  0.0  \n",
      "CRPIX : 419.999978147  1260.99993429  \n",
      "PC1_1 PC1_2  : 1.0  0.0  \n",
      "PC2_1 PC2_2  : 0.0  1.0  \n",
      "CDELT : -0.0166667  0.0166667  \n",
      "NAXIS : 720  480\n"
     ]
    }
   ],
   "source": [
    "d.info()"
   ]
  },
  {
   "cell_type": "markdown",
   "metadata": {},
   "source": [
    " "
   ]
  },
  {
   "cell_type": "markdown",
   "metadata": {},
   "source": [
    "## Tips"
   ]
  },
  {
   "cell_type": "markdown",
   "metadata": {},
   "source": [
    "### ビームサイズを設定する\n",
    "\n",
    "ビームサイズは、ヘッダの BMAJ, BMIN キーワードに保存されています。単位は deg です。\n",
    "convolution をする際に必須なパラメータです。\n",
    "FITS を読み込んだ際に、設定されていない場合、WARINING が出力されます。\n",
    "\n",
    "手動で設定するには、次のようにします。"
   ]
  },
  {
   "cell_type": "code",
   "execution_count": 9,
   "metadata": {},
   "outputs": [
    {
     "name": "stdout",
     "output_type": "stream",
     "text": [
      "\u001b[37m[10:49:53,813]\u001b[0m\u001b[34m INFO: (open_fits) path=http://www.astro.s.osakafu-u.ac.jp/~nishimura/Orion/data/Orion.CO1221.Osaka.beam204.mom0.fits.gz, hdu_num=0\u001b[0m\n",
      "\u001b[37m[10:49:53,831]\u001b[0m\u001b[33m WARNING: (verify_header) Empty keyword: BMAJ\u001b[0m\n",
      "\u001b[37m[10:49:53,831]\u001b[0m\u001b[33m WARNING: (verify_header) Empty keyword: BMIN\u001b[0m\n"
     ]
    }
   ],
   "source": [
    "# FITS ファイルを読み込みます\n",
    "path = 'http://www.astro.s.osakafu-u.ac.jp/~nishimura/Orion/data/Orion.CO1221.Osaka.beam204.mom0.fits.gz'\n",
    "d = n2.open_fits(path)"
   ]
  },
  {
   "cell_type": "code",
   "execution_count": 10,
   "metadata": {},
   "outputs": [
    {
     "name": "stdout",
     "output_type": "stream",
     "text": [
      "\u001b[37m[10:49:53,842]\u001b[0m\u001b[33m WARNING: (verify_header) Empty keyword: BMAJ\u001b[0m\n",
      "\u001b[37m[10:49:53,843]\u001b[0m\u001b[33m WARNING: (verify_header) Empty keyword: BMIN\u001b[0m\n"
     ]
    }
   ],
   "source": [
    "# BMAJ, BMIN が設定されていないので、注意が表示されます\n",
    "d.verify_header()"
   ]
  },
  {
   "cell_type": "code",
   "execution_count": 11,
   "metadata": {},
   "outputs": [],
   "source": [
    "# BMAJ, BMIN を手動で設定しましょう\n",
    "from astropy.units import arcsec\n",
    "d.header['BMAJ'] = (204 * arcsec).to('deg').value\n",
    "d.header['BMIN'] = (204 * arcsec).to('deg').value"
   ]
  },
  {
   "cell_type": "code",
   "execution_count": 12,
   "metadata": {},
   "outputs": [],
   "source": [
    "# 注意は表示されなくなりました\n",
    "d.verify_header()"
   ]
  },
  {
   "cell_type": "markdown",
   "metadata": {},
   "source": [
    "### 古い NANTEN2 データを読み込む\n",
    "\n",
    "古い NANTEN2 データは、エラーが出て読み込めない時があります。原因の一つは、BLANK レコードに NAN が設定されているためです。下記のようなエラーが出た場合は、FITS ファイルを別のソフトもしくはテキストエディタで開き、BLANK レコードを別の数字 (例えば、-9999) に設定することで、astropy.io.fits で読み込めるようになります。"
   ]
  },
  {
   "cell_type": "code",
   "execution_count": 13,
   "metadata": {},
   "outputs": [
    {
     "name": "stdout",
     "output_type": "stream",
     "text": [
      "\u001b[37m[10:49:53,862]\u001b[0m\u001b[34m INFO: (open_fits) path=../../../../data/NANTEN2/NASCO-pre/L0_L10_12CO_sm90.fits.gz, hdu_num=0\u001b[0m\n"
     ]
    },
    {
     "name": "stderr",
     "output_type": "stream",
     "text": [
      "WARNING: VerifyWarning: Error validating header for HDU #0 (note: Astropy uses zero-based indexing).\n",
      "    Unparsable card (BLANK), fix it first with .verify('fix').\n",
      "There may be extra bytes after the last HDU or the file is corrupted. [astropy.io.fits.hdu.hdulist]\n"
     ]
    },
    {
     "ename": "OSError",
     "evalue": "Empty or corrupt FITS file",
     "output_type": "error",
     "traceback": [
      "\u001b[0;31m---------------------------------------------------------------------------\u001b[0m",
      "\u001b[0;31mOSError\u001b[0m                                   Traceback (most recent call last)",
      "\u001b[0;32m<ipython-input-13-9d9cbc99dfd8>\u001b[0m in \u001b[0;36m<module>\u001b[0;34m()\u001b[0m\n\u001b[0;32m----> 1\u001b[0;31m \u001b[0mn2\u001b[0m\u001b[0;34m.\u001b[0m\u001b[0mopen_fits\u001b[0m\u001b[0;34m(\u001b[0m\u001b[0;34m'../../../../data/NANTEN2/NASCO-pre/L0_L10_12CO_sm90.fits.gz'\u001b[0m\u001b[0;34m)\u001b[0m\u001b[0;34m\u001b[0m\u001b[0m\n\u001b[0m",
      "\u001b[0;32m~/.pyenv/versions/anaconda3-5.2.0/lib/python3.6/site-packages/n2/data/fitsimage.py\u001b[0m in \u001b[0;36mopen_fits\u001b[0;34m(path, hdu_num)\u001b[0m\n\u001b[1;32m     19\u001b[0m \u001b[0;32mdef\u001b[0m \u001b[0mopen_fits\u001b[0m\u001b[0;34m(\u001b[0m\u001b[0mpath\u001b[0m\u001b[0;34m,\u001b[0m \u001b[0mhdu_num\u001b[0m\u001b[0;34m=\u001b[0m\u001b[0;36m0\u001b[0m\u001b[0;34m)\u001b[0m\u001b[0;34m:\u001b[0m\u001b[0;34m\u001b[0m\u001b[0m\n\u001b[1;32m     20\u001b[0m     \u001b[0mlogger\u001b[0m\u001b[0;34m.\u001b[0m\u001b[0minfo\u001b[0m\u001b[0;34m(\u001b[0m\u001b[0;34m'(open_fits) path={path}, hdu_num={hdu_num}'\u001b[0m\u001b[0;34m.\u001b[0m\u001b[0mformat\u001b[0m\u001b[0;34m(\u001b[0m\u001b[0;34m**\u001b[0m\u001b[0mlocals\u001b[0m\u001b[0;34m(\u001b[0m\u001b[0;34m)\u001b[0m\u001b[0;34m)\u001b[0m\u001b[0;34m)\u001b[0m\u001b[0;34m\u001b[0m\u001b[0m\n\u001b[0;32m---> 21\u001b[0;31m     \u001b[0mhdul\u001b[0m \u001b[0;34m=\u001b[0m \u001b[0mastropy\u001b[0m\u001b[0;34m.\u001b[0m\u001b[0mio\u001b[0m\u001b[0;34m.\u001b[0m\u001b[0mfits\u001b[0m\u001b[0;34m.\u001b[0m\u001b[0mopen\u001b[0m\u001b[0;34m(\u001b[0m\u001b[0mpath\u001b[0m\u001b[0;34m)\u001b[0m\u001b[0;34m\u001b[0m\u001b[0m\n\u001b[0m\u001b[1;32m     22\u001b[0m     \u001b[0mhdu\u001b[0m \u001b[0;34m=\u001b[0m \u001b[0mhdul\u001b[0m\u001b[0;34m[\u001b[0m\u001b[0mhdu_num\u001b[0m\u001b[0;34m]\u001b[0m\u001b[0;34m\u001b[0m\u001b[0m\n\u001b[1;32m     23\u001b[0m     \u001b[0;32mif\u001b[0m \u001b[0mread_n2hist\u001b[0m\u001b[0;34m(\u001b[0m\u001b[0mhdu\u001b[0m\u001b[0;34m)\u001b[0m \u001b[0;34m==\u001b[0m \u001b[0;34m'\\n'\u001b[0m\u001b[0;34m:\u001b[0m\u001b[0;34m\u001b[0m\u001b[0m\n",
      "\u001b[0;32m~/.pyenv/versions/anaconda3-5.2.0/lib/python3.6/site-packages/astropy/io/fits/hdu/hdulist.py\u001b[0m in \u001b[0;36mfitsopen\u001b[0;34m(name, mode, memmap, save_backup, cache, lazy_load_hdus, **kwargs)\u001b[0m\n\u001b[1;32m    162\u001b[0m \u001b[0;34m\u001b[0m\u001b[0m\n\u001b[1;32m    163\u001b[0m     return HDUList.fromfile(name, mode, memmap, save_backup, cache,\n\u001b[0;32m--> 164\u001b[0;31m                             lazy_load_hdus, **kwargs)\n\u001b[0m\u001b[1;32m    165\u001b[0m \u001b[0;34m\u001b[0m\u001b[0m\n\u001b[1;32m    166\u001b[0m \u001b[0;34m\u001b[0m\u001b[0m\n",
      "\u001b[0;32m~/.pyenv/versions/anaconda3-5.2.0/lib/python3.6/site-packages/astropy/io/fits/hdu/hdulist.py\u001b[0m in \u001b[0;36mfromfile\u001b[0;34m(cls, fileobj, mode, memmap, save_backup, cache, lazy_load_hdus, **kwargs)\u001b[0m\n\u001b[1;32m    398\u001b[0m         return cls._readfrom(fileobj=fileobj, mode=mode, memmap=memmap,\n\u001b[1;32m    399\u001b[0m                              \u001b[0msave_backup\u001b[0m\u001b[0;34m=\u001b[0m\u001b[0msave_backup\u001b[0m\u001b[0;34m,\u001b[0m \u001b[0mcache\u001b[0m\u001b[0;34m=\u001b[0m\u001b[0mcache\u001b[0m\u001b[0;34m,\u001b[0m\u001b[0;34m\u001b[0m\u001b[0m\n\u001b[0;32m--> 400\u001b[0;31m                              lazy_load_hdus=lazy_load_hdus, **kwargs)\n\u001b[0m\u001b[1;32m    401\u001b[0m \u001b[0;34m\u001b[0m\u001b[0m\n\u001b[1;32m    402\u001b[0m     \u001b[0;34m@\u001b[0m\u001b[0mclassmethod\u001b[0m\u001b[0;34m\u001b[0m\u001b[0m\n",
      "\u001b[0;32m~/.pyenv/versions/anaconda3-5.2.0/lib/python3.6/site-packages/astropy/io/fits/hdu/hdulist.py\u001b[0m in \u001b[0;36m_readfrom\u001b[0;34m(cls, fileobj, data, mode, memmap, save_backup, cache, lazy_load_hdus, **kwargs)\u001b[0m\n\u001b[1;32m   1019\u001b[0m                 \u001b[0mhdulist\u001b[0m\u001b[0;34m.\u001b[0m\u001b[0m_file\u001b[0m\u001b[0;34m.\u001b[0m\u001b[0mclose\u001b[0m\u001b[0;34m(\u001b[0m\u001b[0;34m)\u001b[0m\u001b[0;34m\u001b[0m\u001b[0m\n\u001b[1;32m   1020\u001b[0m \u001b[0;34m\u001b[0m\u001b[0m\n\u001b[0;32m-> 1021\u001b[0;31m             \u001b[0;32mraise\u001b[0m \u001b[0mOSError\u001b[0m\u001b[0;34m(\u001b[0m\u001b[0;34m'Empty or corrupt FITS file'\u001b[0m\u001b[0;34m)\u001b[0m\u001b[0;34m\u001b[0m\u001b[0m\n\u001b[0m\u001b[1;32m   1022\u001b[0m \u001b[0;34m\u001b[0m\u001b[0m\n\u001b[1;32m   1023\u001b[0m         \u001b[0;32mif\u001b[0m \u001b[0;32mnot\u001b[0m \u001b[0mlazy_load_hdus\u001b[0m\u001b[0;34m:\u001b[0m\u001b[0;34m\u001b[0m\u001b[0m\n",
      "\u001b[0;31mOSError\u001b[0m: Empty or corrupt FITS file"
     ]
    }
   ],
   "source": [
    "n2.open_fits('../../../../data/NANTEN2/NASCO-pre/L0_L10_12CO_sm90.fits.gz')"
   ]
  }
 ],
 "metadata": {
  "kernelspec": {
   "display_name": "Python 3",
   "language": "python",
   "name": "python3"
  },
  "language_info": {
   "codemirror_mode": {
    "name": "ipython",
    "version": 3
   },
   "file_extension": ".py",
   "mimetype": "text/x-python",
   "name": "python",
   "nbconvert_exporter": "python",
   "pygments_lexer": "ipython3",
   "version": "3.6.5"
  }
 },
 "nbformat": 4,
 "nbformat_minor": 2
}
